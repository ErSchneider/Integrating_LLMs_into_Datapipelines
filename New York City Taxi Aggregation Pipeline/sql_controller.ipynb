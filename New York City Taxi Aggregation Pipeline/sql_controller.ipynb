{
 "cells": [
  {
   "cell_type": "code",
   "execution_count": null,
   "metadata": {},
   "outputs": [],
   "source": [
    "import sqlite3\n",
    "path = 'database.db'\n",
    "connection = sqlite3.connect(path)\n",
    "cursor = connection.cursor()"
   ]
  },
  {
   "cell_type": "code",
   "execution_count": null,
   "metadata": {},
   "outputs": [],
   "source": [
    "with sqlite3.connect('database.db') as connection:\n",
    "    cursor = connection.cursor()\n",
    "    cursor.execute('''\n",
    "    DROP TABLE NYC_v0_output;\n",
    "    ''')\n",
    "    connection.commit()\n",
    "    cursor.close()\n",
    "\n",
    "with sqlite3.connect('database.db') as connection:\n",
    "    cursor = connection.cursor()\n",
    "    cursor.execute('''\n",
    "    CREATE TABLE IF NOT EXISTS NYC_v0_output (\n",
    "        tpep_pickup_datetime DATETIME,\n",
    "        tpep_dropoff_datetime_mean DATETIME,\n",
    "        passenger_count_mean FLOAT,\n",
    "        trip_count INTEGER,\n",
    "        trip_distance_mean FLOAT,\n",
    "        tip_amount_mean FLOAT,\n",
    "        total_amount_mean FLOAT,\n",
    "        airport_fee_mean FLOAT\n",
    "    );\n",
    "    ''')\n",
    "    connection.commit()\n",
    "    cursor.close()"
   ]
  },
  {
   "cell_type": "code",
   "execution_count": null,
   "metadata": {},
   "outputs": [],
   "source": [
    "import pandas as pd\n",
    "\n",
    "with sqlite3.connect('database.db') as connection:\n",
    "\n",
    "    df = pd.read_sql('SELECT * FROM NYC_v0_output', connection)\n",
    "\n",
    "df['tpep_pickup_datetime'] = pd.to_datetime(df['tpep_pickup_datetime'])\n",
    "df['tpep_dropoff_datetime_mean'] = pd.to_datetime(df['tpep_dropoff_datetime_mean'])\n",
    "\n",
    "df"
   ]
  }
 ],
 "metadata": {
  "kernelspec": {
   "display_name": "Python 3",
   "language": "python",
   "name": "python3"
  },
  "language_info": {
   "codemirror_mode": {
    "name": "ipython",
    "version": 3
   },
   "file_extension": ".py",
   "mimetype": "text/x-python",
   "name": "python",
   "nbconvert_exporter": "python",
   "pygments_lexer": "ipython3",
   "version": "3.8.8"
  }
 },
 "nbformat": 4,
 "nbformat_minor": 2
}
