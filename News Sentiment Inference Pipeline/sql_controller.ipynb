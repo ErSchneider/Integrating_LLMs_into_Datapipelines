{
 "cells": [
  {
   "cell_type": "code",
   "execution_count": null,
   "metadata": {},
   "outputs": [],
   "source": [
    "import sqlite3\n",
    "\n",
    "path = 'database.db'\n",
    "connection = sqlite3.connect(path)\n",
    "cursor = connection.cursor()"
   ]
  },
  {
   "cell_type": "code",
   "execution_count": null,
   "metadata": {},
   "outputs": [],
   "source": [
    "with sqlite3.connect('database.db') as connection:\n",
    "    cursor = connection.cursor()\n",
    "    cursor.execute('''\n",
    "        CREATE TABLE IF NOT EXISTS inference_v0_output (\n",
    "            preview STRING,\n",
    "            label STRING\n",
    "        )\n",
    "    ''')\n",
    "    connection.commit()\n",
    "    cursor.close()"
   ]
  },
  {
   "cell_type": "code",
   "execution_count": null,
   "metadata": {},
   "outputs": [],
   "source": [
    "import pandas as pd\n",
    "\n",
    "with sqlite3.connect('database.db') as connection:\n",
    "\n",
    "    sql_query = 'SELECT * FROM inference_v0_output'\n",
    "\n",
    "    df = pd.read_sql(sql_query, connection)\n",
    "\n",
    "\n",
    "df.head(3)"
   ]
  },
  {
   "cell_type": "code",
   "execution_count": null,
   "metadata": {},
   "outputs": [],
   "source": [
    "with sqlite3.connect('database.db') as connection:\n",
    "    cursor = connection.cursor()\n",
    "    cursor.execute('''\n",
    "        DROP TABLE inference_v0_output\n",
    "    ''')\n",
    "    connection.commit()\n",
    "    cursor.close()"
   ]
  },
  {
   "cell_type": "code",
   "execution_count": null,
   "metadata": {},
   "outputs": [],
   "source": [
    "import pandas as pd\n",
    "\n",
    "with sqlite3.connect('database.db') as connection:\n",
    "\n",
    "    sql_query = 'SELECT * FROM inference_v0_LLM_output'\n",
    "\n",
    "    df_LLM = pd.read_sql(sql_query, connection)\n",
    "\n",
    "\n",
    "df_LLM"
   ]
  },
  {
   "cell_type": "code",
   "execution_count": null,
   "metadata": {},
   "outputs": [],
   "source": [
    "full_df = df.join(df_LLM, rsuffix='_llm')\n",
    "full_df['preview_diff'] = full_df['preview'] != full_df['preview_llm']\n",
    "full_df['label_diff'] = full_df['label'] != full_df['label_llm']\n",
    "full_df"
   ]
  },
  {
   "cell_type": "code",
   "execution_count": null,
   "metadata": {},
   "outputs": [],
   "source": [
    "import difflib\n",
    "\n",
    "changes = []\n",
    "\n",
    "for _, content in full_df[full_df['preview_diff']][['preview', 'preview_llm']].iterrows():\n",
    "    print(content['preview'])\n",
    "    print(content['preview_llm'])\n",
    "    changes += ([change[2:] for change in difflib.ndiff(content['preview'], content['preview_llm']) if change[0] in ('+', '-')])\n",
    "\n",
    "changes_dict = {}\n",
    "\n",
    "for item in changes:\n",
    "    if item in changes_dict:\n",
    "        changes_dict[item] += 1\n",
    "    else:\n",
    "        changes_dict[item] = 1\n",
    "\n",
    "print(dict(sorted(changes_dict.items(), key=lambda x: x[1])))"
   ]
  }
 ],
 "metadata": {
  "kernelspec": {
   "display_name": "Python 3",
   "language": "python",
   "name": "python3"
  },
  "language_info": {
   "codemirror_mode": {
    "name": "ipython",
    "version": 3
   },
   "file_extension": ".py",
   "mimetype": "text/x-python",
   "name": "python",
   "nbconvert_exporter": "python",
   "pygments_lexer": "ipython3",
   "version": "3.8.8"
  }
 },
 "nbformat": 4,
 "nbformat_minor": 2
}
