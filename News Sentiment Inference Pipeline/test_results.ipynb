{
 "cells": [
  {
   "cell_type": "code",
   "execution_count": null,
   "metadata": {},
   "outputs": [],
   "source": [
    "import sqlite3\n",
    "\n",
    "path = 'database.db'\n",
    "connection = sqlite3.connect(path)\n",
    "cursor = connection.cursor()"
   ]
  },
  {
   "cell_type": "code",
   "execution_count": null,
   "metadata": {},
   "outputs": [],
   "source": [
    "import pandas as pd\n",
    "\n",
    "with sqlite3.connect('database.db') as connection:\n",
    "\n",
    "    query = 'SELECT * FROM inference_v0_output'\n",
    "    df = pd.read_sql(query, connection)\n",
    "\n",
    "\n",
    "with sqlite3.connect('database.db') as connection:\n",
    "\n",
    "    query = 'SELECT * FROM inference_v0_output_LLM'\n",
    "    df_LLM = pd.read_sql(query, connection)\n"
   ]
  },
  {
   "cell_type": "code",
   "execution_count": null,
   "metadata": {},
   "outputs": [],
   "source": [
    "full_df = df.join(df_LLM, rsuffix='_llm')\n",
    "full_df['preview_diff'] = full_df['preview'] != full_df['preview_llm']\n",
    "full_df['label_diff'] = full_df['label'] != full_df['label_llm']\n",
    "full_df"
   ]
  }
 ],
 "metadata": {
  "kernelspec": {
   "display_name": "Python 3",
   "language": "python",
   "name": "python3"
  },
  "language_info": {
   "codemirror_mode": {
    "name": "ipython",
    "version": 3
   },
   "file_extension": ".py",
   "mimetype": "text/x-python",
   "name": "python",
   "nbconvert_exporter": "python",
   "pygments_lexer": "ipython3",
   "version": "3.8.8"
  }
 },
 "nbformat": 4,
 "nbformat_minor": 2
}
