{
 "cells": [
  {
   "cell_type": "code",
   "execution_count": null,
   "metadata": {},
   "outputs": [],
   "source": [
    "from litellm import completion\n",
    "import json\n",
    "import requests"
   ]
  },
  {
   "cell_type": "code",
   "execution_count": null,
   "metadata": {},
   "outputs": [],
   "source": [
    "html = requests.get(\"http://books.toscrape.com/catalogue/page-2.html\").text\n",
    "changed_html = html.replace('product_pod', 'product')"
   ]
  },
  {
   "cell_type": "code",
   "execution_count": null,
   "metadata": {},
   "outputs": [],
   "source": [
    "def extract_book_info_LLM(html_content):\n",
    "    messages = [{ \"content\": f'''Extract all book info from the following HTML. Create a list of JSON-Objects with the following schema for each book: Rating:Integer, Price:Float, Name:String, Availability:Boolean. HTML:{html_content}''',\"role\": \"user\"}]\n",
    "    response = completion(model=\"gpt-3.5-turbo-16k\", messages=messages)\n",
    "    response_text = response.choices[0].message.content\n",
    "\n",
    "    return json.loads(response_text)"
   ]
  },
  {
   "cell_type": "code",
   "execution_count": null,
   "metadata": {},
   "outputs": [],
   "source": [
    "response_html = extract_book_info_LLM(html)\n",
    "response_changed_html = extract_book_info_LLM(changed_html)\n",
    "print(response_html == response_changed_html)"
   ]
  }
 ],
 "metadata": {
  "kernelspec": {
   "display_name": "Python 3",
   "language": "python",
   "name": "python3"
  },
  "language_info": {
   "codemirror_mode": {
    "name": "ipython",
    "version": 3
   },
   "file_extension": ".py",
   "mimetype": "text/x-python",
   "name": "python",
   "nbconvert_exporter": "python",
   "pygments_lexer": "ipython3",
   "version": "3.8.8"
  }
 },
 "nbformat": 4,
 "nbformat_minor": 2
}
