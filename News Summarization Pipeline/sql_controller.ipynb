{
 "cells": [
  {
   "cell_type": "code",
   "execution_count": null,
   "metadata": {},
   "outputs": [],
   "source": [
    "import sqlite3\n",
    "\n",
    "path = 'database.db'\n",
    "connection = sqlite3.connect(path)\n",
    "cursor = connection.cursor()"
   ]
  },
  {
   "cell_type": "code",
   "execution_count": null,
   "metadata": {},
   "outputs": [],
   "source": [
    "with sqlite3.connect('database.db') as connection:\n",
    "    cursor = connection.cursor()\n",
    "    cursor.execute('''\n",
    "        DROP TABLE summarization_v0_output\n",
    "    ''')\n",
    "    connection.commit()\n",
    "    cursor.close()"
   ]
  },
  {
   "cell_type": "code",
   "execution_count": null,
   "metadata": {},
   "outputs": [],
   "source": [
    "with sqlite3.connect('database.db') as connection:\n",
    "    cursor = connection.cursor()\n",
    "    cursor.execute('''\n",
    "        CREATE TABLE IF NOT EXISTS summarization_v0_output (\n",
    "            date DATE,\n",
    "            summarization STRING,\n",
    "            raw_json STRING\n",
    "        )\n",
    "    ''')\n",
    "    connection.commit()\n",
    "    cursor.close()"
   ]
  },
  {
   "cell_type": "code",
   "execution_count": null,
   "metadata": {},
   "outputs": [],
   "source": [
    "import pandas as pd\n",
    "\n",
    "with sqlite3.connect('database.db') as connection:\n",
    "\n",
    "    sql_query = 'SELECT * FROM summarization_v0_output'\n",
    "\n",
    "    df = pd.read_sql(sql_query, connection)\n",
    "\n",
    "\n",
    "df.head(3)"
   ]
  }
 ],
 "metadata": {
  "kernelspec": {
   "display_name": "Python 3",
   "language": "python",
   "name": "python3"
  },
  "language_info": {
   "codemirror_mode": {
    "name": "ipython",
    "version": 3
   },
   "file_extension": ".py",
   "mimetype": "text/x-python",
   "name": "python",
   "nbconvert_exporter": "python",
   "pygments_lexer": "ipython3",
   "version": "3.8.8"
  }
 },
 "nbformat": 4,
 "nbformat_minor": 2
}
